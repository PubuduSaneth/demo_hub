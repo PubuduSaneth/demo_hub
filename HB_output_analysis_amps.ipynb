{
 "cells": [
  {
   "cell_type": "code",
   "execution_count": 1,
   "metadata": {},
   "outputs": [],
   "source": [
    "import pandas as pd\n",
    "import numpy as np\n",
    "import matplotlib.pyplot as plt\n",
    "import seaborn as sns\n",
    "import sys\n",
    "sns.set(style=\"ticks\")\n",
    "plt.style.use(u'ggplot')\n",
    "%matplotlib inline\n",
    "sys.path.append(\"/Users/pubudu/Documents/MyGithub/my_modules/\")\n",
    "import ecdf, ffind, fgenes"
   ]
  },
  {
   "cell_type": "code",
   "execution_count": 2,
   "metadata": {},
   "outputs": [],
   "source": [
    "def split_regions(r):\n",
    "    g = r.split(\" \")[0]\n",
    "    gSplit = g.split(\":\")\n",
    "    chrom = gSplit[0]#\"chr{}\".format(gSplit[0])\n",
    "    start, end = gSplit[1].split(\"-\")\n",
    "    return chrom, int(start), int(end)\n",
    "\n",
    "def sig_test(r):\n",
    "    ret_str = \"not_significant\"\n",
    "    if r <= 0.1:\n",
    "        ret_str = \"significant\"\n",
    "    return ret_str\n",
    "\n",
    "# Format Genomic HyperBrowser output\n",
    "def format_HBFile(hb_file_in, col_id):\n",
    "    hb_file = pd.read_table(hb_file_in, skiprows=2)\n",
    "    print (\"Columns and their data typs of the input file:\")\n",
    "    print (hb_file.dtypes)\n",
    "    hb_file.columns = ['Region', 'P-value', 'FDR-adjusted p-values', 'Test statistic: Observed base pair overlap', 'Mean of null distribution', 'Median of null distribution', 'Standard deviation of null distribution', 'Difference from mean', 'Number of Monte Carlo samples', 'Number of Monte Carlo samples (excluding any NaN samples)', 'Number of Monte Carlo samples with extreme test statistic', 'Number of elements in query', 'Number of elements in IMR90TADs', 'Assembly gap coverage']\n",
    "    hb_file.columns = hb_file.columns.str.lower().str.replace(' ', '_')\n",
    "    print (\"\\n\\nNumber of null values in fdr-adjusted_p-values: {}\".format(len(hb_file[hb_file['fdr-adjusted_p-values'].isnull()]) ))\n",
    "    print (\"Removing rows with null values in fdr-adjusted_p-values...\\n\")\n",
    "    hb_file = hb_file[hb_file['fdr-adjusted_p-values'].notnull()].reset_index().drop('index', axis=1)\n",
    "    #print (\"Null values in columns...\")\n",
    "    #print (hb_file.isnull().sum())\n",
    "    \n",
    "    hb_file_out = pd.DataFrame()\n",
    "    hb_file_out = hb_file[['region', 'fdr-adjusted_p-values', 'test_statistic:_observed_base_pair_overlap', 'difference_from_mean', 'number_of_elements_in_query', 'number_of_elements_in_imr90tads' ]].copy()\n",
    "    hb_file_out.columns = ['region', 'p-values_adj', 'test_statistic', 'diff_from_mean', 'elements_in_query', 'number_of_TADs' ]\n",
    "    hb_file_out = hb_file_out[~hb_file_out['region'].str.contains(\"intersect\")]\n",
    "    hb_file_out['chr'], hb_file_out['start'], hb_file_out['end'] = zip(*hb_file_out.apply(lambda x: split_regions(x['region']), axis=1 ))\n",
    "    hb_file_out = hb_file_out[['chr', 'start', 'end', 'p-values_adj', 'test_statistic', 'diff_from_mean', 'elements_in_query', 'number_of_TADs' ]]\n",
    "    if hb_file_out['test_statistic'].dtype==object:\n",
    "        hb_file_out['test_statistic'] = hb_file_out['test_statistic'].apply(lambda x: x.replace(\" \",\"\"))\n",
    "        hb_file_out['diff_from_mean'] = hb_file_out['diff_from_mean'].apply(lambda x: x.replace(\" \",\"\"))\n",
    "    hb_file_out[['test_statistic','diff_from_mean']] = hb_file_out[['test_statistic','diff_from_mean']].astype(float)\n",
    "    hb_file_out[['elements_in_query', 'number_of_TADs']] = hb_file_out[['elements_in_query', 'number_of_TADs']].astype(int)\n",
    "    #hb_file_out['log2_test_statistic'] = hb_file_out['test_statistic'].apply(lambda x: np.log2(x))\n",
    "    hb_file_out['Cancer_type'] = col_id\n",
    "    hb_file_out['Signif'] = hb_file_out['p-values_adj'].apply(lambda x: sig_test(x))\n",
    "    \n",
    "    print (\"\\n Length of output dataframe: {}\".format(len(hb_file_out)))\n",
    "    print (\"\\n Number of significant bins: {}\".format(len(hb_file_out[hb_file_out['Signif'] == 'significant'])))\n",
    "    print (\"\\n Output file:\")\n",
    "    print (hb_file_out.info())\n",
    "\n",
    "    return hb_file_out"
   ]
  },
  {
   "cell_type": "code",
   "execution_count": 3,
   "metadata": {},
   "outputs": [],
   "source": [
    "c_ID = \"SKCM\"\n",
    "cns_type = 'amps'"
   ]
  },
  {
   "cell_type": "markdown",
   "metadata": {},
   "source": [
    "### 3D hotspots in recurrent deletions"
   ]
  },
  {
   "cell_type": "code",
   "execution_count": 4,
   "metadata": {},
   "outputs": [
    {
     "name": "stdout",
     "output_type": "stream",
     "text": [
      "/Users/pubudu/Documents/SCAN-hic/V04-012019/demo/../01.SKCM/datasets_0119/0.breakpoints/HyperBrowser___Located_nearby___on__01.SKCM_breakpoints_in_GAIA-GISTIC2-intersect_amps_0119_hbinput.bed_(3)__vs__IMR90.domainList.chr.sorted.merged_table.txt\n"
     ]
    }
   ],
   "source": [
    "hb = ffind.find(\"HyperBrowser___Located_nearby___on__*_breakpoints_in_GAIA-GISTIC2-intersect_{}_0119_hbinput.bed_*__vs__IMR90.domainList.chr.sorted.merged_table.txt\".format(cns_type), \"../01.SKCM/datasets_0119/0.breakpoints\")\n",
    "if len(hb) == 1:\n",
    "    hb = hb[0]\n",
    "    print (hb)\n",
    "else:\n",
    "    print (f\"Error: check HB file in datasets_0119 \\n {hb}\")"
   ]
  },
  {
   "cell_type": "code",
   "execution_count": 5,
   "metadata": {},
   "outputs": [
    {
     "name": "stdout",
     "output_type": "stream",
     "text": [
      "Columns and their data typs of the input file:\n",
      "#Region                                                                                         object\n",
      "P-value                                                                                         object\n",
      "FDR-adjusted p-values                                                                          float64\n",
      "Test statistic: Average log-distance                                                            object\n",
      "Mean of null distribution                                                                       object\n",
      "Median of null distribution                                                                     object\n",
      "Standard deviation of null distribution                                                         object\n",
      "Difference from mean                                                                            object\n",
      "Number of Monte Carlo samples                                                                   object\n",
      "Number of Monte Carlo samples (excluding any NaN samples)                                       object\n",
      "Number of Monte Carlo samples with extreme test statistic                                       object\n",
      "Number of elements in '01.SKCM_breakpoints_in_GAIA-GISTIC2-intersect_amps_0119_hbinput.bed'     object\n",
      "Number of elements in 'IMR90.domainList.chr.sorted.merged.bed'                                  object\n",
      "Assembly gap coverage                                                                          float64\n",
      "dtype: object\n",
      "\n",
      "\n",
      "Number of null values in fdr-adjusted_p-values: 629\n",
      "Removing rows with null values in fdr-adjusted_p-values...\n",
      "\n",
      "\n",
      " Length of output dataframe: 114\n",
      "\n",
      " Number of significant bins: 17\n",
      "\n",
      " Output file:\n",
      "<class 'pandas.core.frame.DataFrame'>\n",
      "Int64Index: 114 entries, 0 to 115\n",
      "Data columns (total 10 columns):\n",
      "chr                  114 non-null object\n",
      "start                114 non-null int64\n",
      "end                  114 non-null int64\n",
      "p-values_adj         114 non-null float64\n",
      "test_statistic       114 non-null float64\n",
      "diff_from_mean       114 non-null float64\n",
      "elements_in_query    114 non-null int64\n",
      "number_of_TADs       114 non-null int64\n",
      "Cancer_type          114 non-null object\n",
      "Signif               114 non-null object\n",
      "dtypes: float64(3), int64(4), object(3)\n",
      "memory usage: 9.8+ KB\n",
      "None\n"
     ]
    },
    {
     "data": {
      "text/html": [
       "<div>\n",
       "<style scoped>\n",
       "    .dataframe tbody tr th:only-of-type {\n",
       "        vertical-align: middle;\n",
       "    }\n",
       "\n",
       "    .dataframe tbody tr th {\n",
       "        vertical-align: top;\n",
       "    }\n",
       "\n",
       "    .dataframe thead th {\n",
       "        text-align: right;\n",
       "    }\n",
       "</style>\n",
       "<table border=\"1\" class=\"dataframe\">\n",
       "  <thead>\n",
       "    <tr style=\"text-align: right;\">\n",
       "      <th></th>\n",
       "      <th>chr</th>\n",
       "      <th>start</th>\n",
       "      <th>end</th>\n",
       "      <th>p-values_adj</th>\n",
       "      <th>test_statistic</th>\n",
       "      <th>diff_from_mean</th>\n",
       "      <th>elements_in_query</th>\n",
       "      <th>number_of_TADs</th>\n",
       "      <th>Cancer_type</th>\n",
       "      <th>Signif</th>\n",
       "    </tr>\n",
       "  </thead>\n",
       "  <tbody>\n",
       "    <tr>\n",
       "      <th>0</th>\n",
       "      <td>chr1</td>\n",
       "      <td>149000002</td>\n",
       "      <td>152000001</td>\n",
       "      <td>0.006372</td>\n",
       "      <td>1.3910</td>\n",
       "      <td>-3.06400</td>\n",
       "      <td>70</td>\n",
       "      <td>4</td>\n",
       "      <td>SKCM</td>\n",
       "      <td>significant</td>\n",
       "    </tr>\n",
       "    <tr>\n",
       "      <th>1</th>\n",
       "      <td>chr1</td>\n",
       "      <td>152000002</td>\n",
       "      <td>153000001</td>\n",
       "      <td>0.941800</td>\n",
       "      <td>0.1855</td>\n",
       "      <td>-0.03451</td>\n",
       "      <td>39</td>\n",
       "      <td>3</td>\n",
       "      <td>SKCM</td>\n",
       "      <td>not_significant</td>\n",
       "    </tr>\n",
       "    <tr>\n",
       "      <th>2</th>\n",
       "      <td>chr1</td>\n",
       "      <td>153000002</td>\n",
       "      <td>157000001</td>\n",
       "      <td>0.487700</td>\n",
       "      <td>1.3280</td>\n",
       "      <td>-0.48200</td>\n",
       "      <td>80</td>\n",
       "      <td>12</td>\n",
       "      <td>SKCM</td>\n",
       "      <td>not_significant</td>\n",
       "    </tr>\n",
       "    <tr>\n",
       "      <th>3</th>\n",
       "      <td>chr1</td>\n",
       "      <td>157000002</td>\n",
       "      <td>161000001</td>\n",
       "      <td>0.989300</td>\n",
       "      <td>3.8480</td>\n",
       "      <td>1.16600</td>\n",
       "      <td>96</td>\n",
       "      <td>8</td>\n",
       "      <td>SKCM</td>\n",
       "      <td>not_significant</td>\n",
       "    </tr>\n",
       "    <tr>\n",
       "      <th>4</th>\n",
       "      <td>chr1</td>\n",
       "      <td>161000002</td>\n",
       "      <td>163000001</td>\n",
       "      <td>0.354000</td>\n",
       "      <td>1.4520</td>\n",
       "      <td>-0.87440</td>\n",
       "      <td>51</td>\n",
       "      <td>6</td>\n",
       "      <td>SKCM</td>\n",
       "      <td>not_significant</td>\n",
       "    </tr>\n",
       "  </tbody>\n",
       "</table>\n",
       "</div>"
      ],
      "text/plain": [
       "    chr      start        end  p-values_adj  test_statistic  diff_from_mean  \\\n",
       "0  chr1  149000002  152000001      0.006372          1.3910        -3.06400   \n",
       "1  chr1  152000002  153000001      0.941800          0.1855        -0.03451   \n",
       "2  chr1  153000002  157000001      0.487700          1.3280        -0.48200   \n",
       "3  chr1  157000002  161000001      0.989300          3.8480         1.16600   \n",
       "4  chr1  161000002  163000001      0.354000          1.4520        -0.87440   \n",
       "\n",
       "   elements_in_query  number_of_TADs Cancer_type           Signif  \n",
       "0                 70               4        SKCM      significant  \n",
       "1                 39               3        SKCM  not_significant  \n",
       "2                 80              12        SKCM  not_significant  \n",
       "3                 96               8        SKCM  not_significant  \n",
       "4                 51               6        SKCM  not_significant  "
      ]
     },
     "execution_count": 5,
     "metadata": {},
     "output_type": "execute_result"
    }
   ],
   "source": [
    "hb_df = format_HBFile(hb, c_ID)\n",
    "hb_df.head()"
   ]
  },
  {
   "cell_type": "code",
   "execution_count": 6,
   "metadata": {},
   "outputs": [],
   "source": [
    "#??ecdf.ecdf"
   ]
  },
  {
   "cell_type": "code",
   "execution_count": 7,
   "metadata": {},
   "outputs": [
    {
     "data": {
      "image/png": "[encoded data removed]",
      "text/plain": [
       "<matplotlib.figure.Figure at 0x100478908>"
      ]
     },
     "metadata": {},
     "output_type": "display_data"
    }
   ],
   "source": [
    "x_signif, y_signif = ecdf.ecdf(hb_df[hb_df['Signif'] == 'significant']['diff_from_mean'].values)\n",
    "x_nonsignif, y_nonsignif = ecdf.ecdf(hb_df[hb_df['Signif'] == 'not_significant']['diff_from_mean'].values)\n",
    "plt.plot(x_signif, y_signif, marker = '.', linestyle = 'none')\n",
    "plt.plot(x_nonsignif, y_nonsignif, marker = '.', linestyle = 'none')\n",
    "\n",
    "# Make the margins nice\n",
    "plt.margins(0.02)\n",
    "\n",
    "# Label the axes\n",
    "plt.xlabel(\"SKCM diff_from_mean\")\n",
    "plt.ylabel('Fraction')\n",
    "plt.legend(('Significant bins', 'Non-significant bins'), loc='lower right')\n",
    "\n",
    "# Display the plot\n",
    "plt.show()"
   ]
  },
  {
   "cell_type": "code",
   "execution_count": 8,
   "metadata": {},
   "outputs": [
    {
     "data": {
      "image/png": "[encoded data removed]",
      "text/plain": [
       "<matplotlib.figure.Figure at 0x1a09a0f8d0>"
      ]
     },
     "metadata": {},
     "output_type": "display_data"
    }
   ],
   "source": [
    "x_signif, y_signif = ecdf.ecdf(hb_df[hb_df['Signif'] == 'significant']['p-values_adj'].values)\n",
    "x_nonsignif, y_nonsignif = ecdf.ecdf(hb_df[hb_df['Signif'] == 'not_significant']['p-values_adj'].values)\n",
    "plt.plot(x_signif, y_signif, marker = '.', linestyle = 'none')\n",
    "plt.plot(x_nonsignif, y_nonsignif, marker = '.', linestyle = 'none')\n",
    "\n",
    "# Make the margins nice\n",
    "plt.margins(0.02)\n",
    "\n",
    "# Label the axes\n",
    "plt.xlabel(\"SKCM FDR corrected P-value\")\n",
    "plt.ylabel('Fraction')\n",
    "plt.legend(('Significant bins', 'Non-significant bins'), loc='upper center')\n",
    "\n",
    "# Display the plot\n",
    "plt.show()"
   ]
  },
  {
   "cell_type": "code",
   "execution_count": 9,
   "metadata": {},
   "outputs": [
    {
     "data": {
      "image/png": "[encoded data removed]",
      "text/plain": [
       "<matplotlib.figure.Figure at 0x1021070b8>"
      ]
     },
     "metadata": {},
     "output_type": "display_data"
    }
   ],
   "source": [
    "#plt.figure(figsize=(12,4))\n",
    "x_signif, y_signif = ecdf.ecdf(hb_df[hb_df['Signif'] == 'significant']['elements_in_query'].values)\n",
    "x_nonsignif, y_nonsignif = ecdf.ecdf(hb_df[hb_df['Signif'] == 'not_significant']['elements_in_query'].values)\n",
    "plt.plot(x_signif, y_signif, marker = '.', linestyle = 'none')\n",
    "plt.plot(x_nonsignif, y_nonsignif, marker = '.', linestyle = 'none')\n",
    "\n",
    "# Make the margins nice\n",
    "plt.margins(0.02)\n",
    "\n",
    "# Label the axes\n",
    "plt.xlabel(\"SKCM test_statistic\")\n",
    "plt.ylabel('Fraction')\n",
    "plt.legend(('Significant bins', 'Non-significant bins'), loc='lower right')\n",
    "\n",
    "# Display the plot\n",
    "plt.show()"
   ]
  },
  {
   "cell_type": "code",
   "execution_count": 10,
   "metadata": {},
   "outputs": [
    {
     "data": {
      "image/png": "[encoded data removed]",
      "text/plain": [
       "<matplotlib.figure.Figure at 0x1a09a03a90>"
      ]
     },
     "metadata": {},
     "output_type": "display_data"
    }
   ],
   "source": [
    "#plt.figure(figsize=(12,4))\n",
    "x_signif, y_signif = ecdf.ecdf(hb_df[hb_df['Signif'] == 'significant']['number_of_TADs'].values)\n",
    "x_nonsignif, y_nonsignif = ecdf.ecdf(hb_df[hb_df['Signif'] == 'not_significant']['number_of_TADs'].values)\n",
    "plt.plot(x_signif, y_signif, marker = '.', linestyle = 'none')\n",
    "plt.plot(x_nonsignif, y_nonsignif, marker = '.', linestyle = 'none')\n",
    "\n",
    "# Make the margins nice\n",
    "plt.margins(0.02)\n",
    "\n",
    "# Label the axes\n",
    "plt.xlabel(\"SKCM number_of_TADs\")\n",
    "plt.ylabel('Fraction')\n",
    "plt.legend(('Significant bins', 'Non-significant bins'), loc='lower right')\n",
    "\n",
    "# Display the plot\n",
    "plt.show()"
   ]
  },
  {
   "cell_type": "code",
   "execution_count": null,
   "metadata": {},
   "outputs": [],
   "source": []
  },
  {
   "cell_type": "markdown",
   "metadata": {},
   "source": [
    "### 1.1 Identify TAD hotspots"
   ]
  },
  {
   "cell_type": "code",
   "execution_count": 11,
   "metadata": {},
   "outputs": [
    {
     "name": "stdout",
     "output_type": "stream",
     "text": [
      "<class 'pandas.core.frame.DataFrame'>\n",
      "Int64Index: 114 entries, 0 to 115\n",
      "Data columns (total 10 columns):\n",
      "chr                  114 non-null object\n",
      "start                114 non-null int64\n",
      "end                  114 non-null int64\n",
      "p-values_adj         114 non-null float64\n",
      "test_statistic       114 non-null float64\n",
      "diff_from_mean       114 non-null float64\n",
      "elements_in_query    114 non-null int64\n",
      "number_of_TADs       114 non-null int64\n",
      "Cancer_type          114 non-null object\n",
      "Signif               114 non-null object\n",
      "dtypes: float64(3), int64(4), object(3)\n",
      "memory usage: 9.8+ KB\n"
     ]
    }
   ],
   "source": [
    "hb_df.info()"
   ]
  },
  {
   "cell_type": "code",
   "execution_count": 12,
   "metadata": {},
   "outputs": [
    {
     "name": "stdout",
     "output_type": "stream",
     "text": [
      "datasets_0119/0.breakpoints/02_SKCM_amps_sig_ab_comps.txt\n"
     ]
    }
   ],
   "source": [
    "sig_ab_comps = \"{}/{}_{}_{}_{}.txt\".format('datasets_0119/0.breakpoints', '02', c_ID, cns_type, 'sig_ab_comps')\n",
    "print (sig_ab_comps)"
   ]
  },
  {
   "cell_type": "code",
   "execution_count": 13,
   "metadata": {},
   "outputs": [],
   "source": [
    "hb_df[hb_df['Signif'] == 'significant'][['chr', 'start', 'end', 'Signif']].drop_duplicates().to_csv(sig_ab_comps, sep=\"\\t\", index=False)"
   ]
  },
  {
   "cell_type": "code",
   "execution_count": 14,
   "metadata": {},
   "outputs": [
    {
     "name": "stdout",
     "output_type": "stream",
     "text": [
      "/Users/pubudu/Documents/SCAN-hic/V04-012019/demo/../01.SKCM/datasets_0119/0.breakpoints/01.SKCM_breakpoints_in_GAIA-GISTIC2-intersect_amps_0119.bed\n"
     ]
    }
   ],
   "source": [
    "recurrent_bps = ffind.find(\"01.{}_breakpoints_in_GAIA-GISTIC2-intersect_{}_0119.bed\".format(c_ID, cns_type), \"../01.SKCM/datasets_0119/0.breakpoints\")\n",
    "if len(recurrent_bps) == 1:\n",
    "    recurrent_bps = recurrent_bps[0]\n",
    "    print (recurrent_bps)\n",
    "else:\n",
    "    print (\"Error: check breakpoints_in_GAIA-GISTIC2-intersect_amps file in datasets_0618\")"
   ]
  },
  {
   "cell_type": "code",
   "execution_count": 15,
   "metadata": {},
   "outputs": [
    {
     "name": "stdout",
     "output_type": "stream",
     "text": [
      "datasets_0119/0.breakpoints/02.SKCM_amps_GISTIC2-GAIA-recurrent.breakpoints_in_sigABComps.bed\n"
     ]
    }
   ],
   "source": [
    "bp_3D_sig = f\"datasets_0119/0.breakpoints/02.{c_ID}_{cns_type}_GISTIC2-GAIA-recurrent.breakpoints_in_sigABComps.bed\" #\"datasets_0119/0.breakpoints/02.{}_{}_GISTIC2-GAIA-significant.breakpoints.bed\".format(c_ID, cns_type)\n",
    "print (bp_3D_sig)"
   ]
  },
  {
   "cell_type": "code",
   "execution_count": 16,
   "metadata": {},
   "outputs": [
    {
     "name": "stdout",
     "output_type": "stream",
     "text": [
      "datasets_0119/0.breakpoints/02.SKCM_amps_GISTIC2-GAIA-recurrent.breakpoints_in_sigABComps.bed\n",
      "    2249 datasets_0119/0.breakpoints/02.SKCM_amps_GISTIC2-GAIA-recurrent.breakpoints_in_sigABComps.bed\n"
     ]
    }
   ],
   "source": [
    "%%bash -s $sig_ab_comps $recurrent_bps $bp_3D_sig\n",
    "echo $3\n",
    "intersectBed -a $2 -b $1 -f 0.9 -u | sortBed -i stdin > $3\n",
    "wc -l $3"
   ]
  },
  {
   "cell_type": "code",
   "execution_count": null,
   "metadata": {},
   "outputs": [],
   "source": []
  },
  {
   "cell_type": "code",
   "execution_count": null,
   "metadata": {},
   "outputs": [],
   "source": []
  }
 ],
 "metadata": {
  "kernelspec": {
   "display_name": "Python (py36)",
   "language": "python",
   "name": "py36"
  },
  "language_info": {
   "codemirror_mode": {
    "name": "ipython",
    "version": 3
   },
   "file_extension": ".py",
   "mimetype": "text/x-python",
   "name": "python",
   "nbconvert_exporter": "python",
   "pygments_lexer": "ipython3",
   "version": "3.6.3"
  }
 },
 "nbformat": 4,
 "nbformat_minor": 2
}
