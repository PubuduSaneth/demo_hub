{
 "cells": [
  {
   "cell_type": "code",
   "execution_count": 1,
   "metadata": {},
   "outputs": [],
   "source": [
    "import pandas as pd\n",
    "import pysam\n",
    "import numpy as np\n",
    "from scipy import stats\n",
    "import matplotlib.pyplot as plt\n",
    "import seaborn as sns\n",
    "#import re\n",
    "import sys\n",
    "sns.set(style=\"whitegrid\")\n",
    "#sns.set(style=\"ticks\")\n",
    "#plt.style.use(u'ggplot')\n",
    "%matplotlib inline\n",
    "sys.path.append(\"/Users/pubudu/Documents/MyGithub/my_modules/\")\n",
    "import ecdf, ffind, fgenes"
   ]
  },
  {
   "cell_type": "markdown",
   "metadata": {},
   "source": [
    "## [KS test](http://www.physics.csbsju.edu/stats/KS-test.html)\n",
    "\n",
    "* H0: Two datasets are drown from the same population (with the same distribution)\n",
    "    * Two distributions are equal\n",
    "* H1: Two datasets are not drown from the same population\n",
    "    * Two distributions are not equal\n",
    "\n",
    "KS test statistic is defined as the maximum of the absolute differences between the empirical cumulative distribution functions (ecdf) of the two groups. As such KS is not limited to differences in central tendency; it is also robust, independent of the shape of distributions, and provides a measure of effect size bounded between 0 and 1. [Ref](https://garstats.wordpress.com/2016/05/02/robust-effect-sizes-for-2-independent-groups/)"
   ]
  },
  {
   "cell_type": "code",
   "execution_count": 2,
   "metadata": {},
   "outputs": [],
   "source": [
    "source_dir = \"/Users/pubudu/Documents/SCAN-hic/V04-012019/07.COAD/datasets_0119/0.breakpoints/1.tcb_hotspot_validation\""
   ]
  },
  {
   "cell_type": "code",
   "execution_count": 3,
   "metadata": {},
   "outputs": [
    {
     "data": {
      "text/html": [
       "<div>\n",
       "<style scoped>\n",
       "    .dataframe tbody tr th:only-of-type {\n",
       "        vertical-align: middle;\n",
       "    }\n",
       "\n",
       "    .dataframe tbody tr th {\n",
       "        vertical-align: top;\n",
       "    }\n",
       "\n",
       "    .dataframe thead th {\n",
       "        text-align: right;\n",
       "    }\n",
       "</style>\n",
       "<table border=\"1\" class=\"dataframe\">\n",
       "  <thead>\n",
       "    <tr style=\"text-align: right;\">\n",
       "      <th></th>\n",
       "      <th>chr</th>\n",
       "      <th>start</th>\n",
       "      <th>end</th>\n",
       "      <th>gene</th>\n",
       "      <th>log2fc</th>\n",
       "    </tr>\n",
       "  </thead>\n",
       "  <tbody>\n",
       "    <tr>\n",
       "      <th>0</th>\n",
       "      <td>chr8</td>\n",
       "      <td>6357172</td>\n",
       "      <td>6420930</td>\n",
       "      <td>ANGPT2</td>\n",
       "      <td>1.306235</td>\n",
       "    </tr>\n",
       "    <tr>\n",
       "      <th>1</th>\n",
       "      <td>chr15</td>\n",
       "      <td>32907345</td>\n",
       "      <td>32932150</td>\n",
       "      <td>ARHGAP11A</td>\n",
       "      <td>1.017558</td>\n",
       "    </tr>\n",
       "    <tr>\n",
       "      <th>2</th>\n",
       "      <td>chr1</td>\n",
       "      <td>16524349</td>\n",
       "      <td>16539104</td>\n",
       "      <td>ARHGEF19</td>\n",
       "      <td>1.358564</td>\n",
       "    </tr>\n",
       "    <tr>\n",
       "      <th>3</th>\n",
       "      <td>chr8</td>\n",
       "      <td>17913934</td>\n",
       "      <td>17942494</td>\n",
       "      <td>ASAH1</td>\n",
       "      <td>-0.608369</td>\n",
       "    </tr>\n",
       "    <tr>\n",
       "      <th>4</th>\n",
       "      <td>chr18</td>\n",
       "      <td>55313658</td>\n",
       "      <td>55470333</td>\n",
       "      <td>ATP8B1</td>\n",
       "      <td>-1.455010</td>\n",
       "    </tr>\n",
       "  </tbody>\n",
       "</table>\n",
       "</div>"
      ],
      "text/plain": [
       "     chr     start       end       gene    log2fc\n",
       "0   chr8   6357172   6420930     ANGPT2  1.306235\n",
       "1  chr15  32907345  32932150  ARHGAP11A  1.017558\n",
       "2   chr1  16524349  16539104   ARHGEF19  1.358564\n",
       "3   chr8  17913934  17942494      ASAH1 -0.608369\n",
       "4  chr18  55313658  55470333     ATP8B1 -1.455010"
      ]
     },
     "execution_count": 3,
     "metadata": {},
     "output_type": "execute_result"
    }
   ],
   "source": [
    "group_a = pd.read_table(f\"{source_dir}/group_A_DEGs.bed\", names=['chr', 'start', 'end', 'gene', 'log2fc'])\n",
    "group_a.head()"
   ]
  },
  {
   "cell_type": "code",
   "execution_count": 4,
   "metadata": {},
   "outputs": [
    {
     "data": {
      "text/html": [
       "<div>\n",
       "<style scoped>\n",
       "    .dataframe tbody tr th:only-of-type {\n",
       "        vertical-align: middle;\n",
       "    }\n",
       "\n",
       "    .dataframe tbody tr th {\n",
       "        vertical-align: top;\n",
       "    }\n",
       "\n",
       "    .dataframe thead th {\n",
       "        text-align: right;\n",
       "    }\n",
       "</style>\n",
       "<table border=\"1\" class=\"dataframe\">\n",
       "  <thead>\n",
       "    <tr style=\"text-align: right;\">\n",
       "      <th></th>\n",
       "      <th>chr</th>\n",
       "      <th>start</th>\n",
       "      <th>end</th>\n",
       "      <th>gene</th>\n",
       "      <th>log2fc</th>\n",
       "    </tr>\n",
       "  </thead>\n",
       "  <tbody>\n",
       "    <tr>\n",
       "      <th>0</th>\n",
       "      <td>chr1</td>\n",
       "      <td>3406484</td>\n",
       "      <td>3528059</td>\n",
       "      <td>MEGF6</td>\n",
       "      <td>1.363862</td>\n",
       "    </tr>\n",
       "    <tr>\n",
       "      <th>1</th>\n",
       "      <td>chr1</td>\n",
       "      <td>3541566</td>\n",
       "      <td>3546691</td>\n",
       "      <td>TPRG1L</td>\n",
       "      <td>-0.631326</td>\n",
       "    </tr>\n",
       "    <tr>\n",
       "      <th>2</th>\n",
       "      <td>chr1</td>\n",
       "      <td>3569084</td>\n",
       "      <td>3652765</td>\n",
       "      <td>TP73</td>\n",
       "      <td>2.578334</td>\n",
       "    </tr>\n",
       "    <tr>\n",
       "      <th>3</th>\n",
       "      <td>chr1</td>\n",
       "      <td>37261128</td>\n",
       "      <td>37499730</td>\n",
       "      <td>GRIK3</td>\n",
       "      <td>-4.084552</td>\n",
       "    </tr>\n",
       "    <tr>\n",
       "      <th>4</th>\n",
       "      <td>chr1</td>\n",
       "      <td>39330175</td>\n",
       "      <td>39347289</td>\n",
       "      <td>GJA9</td>\n",
       "      <td>-1.902531</td>\n",
       "    </tr>\n",
       "  </tbody>\n",
       "</table>\n",
       "</div>"
      ],
      "text/plain": [
       "    chr     start       end    gene    log2fc\n",
       "0  chr1   3406484   3528059   MEGF6  1.363862\n",
       "1  chr1   3541566   3546691  TPRG1L -0.631326\n",
       "2  chr1   3569084   3652765    TP73  2.578334\n",
       "3  chr1  37261128  37499730   GRIK3 -4.084552\n",
       "4  chr1  39330175  39347289    GJA9 -1.902531"
      ]
     },
     "execution_count": 4,
     "metadata": {},
     "output_type": "execute_result"
    }
   ],
   "source": [
    "group_b = pd.read_table(f\"{source_dir}/group_B_DEGs.bed\", names=['chr', 'start', 'end', 'gene', 'log2fc'])\n",
    "group_b.head()"
   ]
  },
  {
   "cell_type": "code",
   "execution_count": 5,
   "metadata": {},
   "outputs": [
    {
     "data": {
      "text/html": [
       "<div>\n",
       "<style scoped>\n",
       "    .dataframe tbody tr th:only-of-type {\n",
       "        vertical-align: middle;\n",
       "    }\n",
       "\n",
       "    .dataframe tbody tr th {\n",
       "        vertical-align: top;\n",
       "    }\n",
       "\n",
       "    .dataframe thead th {\n",
       "        text-align: right;\n",
       "    }\n",
       "</style>\n",
       "<table border=\"1\" class=\"dataframe\">\n",
       "  <thead>\n",
       "    <tr style=\"text-align: right;\">\n",
       "      <th></th>\n",
       "      <th>chr</th>\n",
       "      <th>start</th>\n",
       "      <th>end</th>\n",
       "      <th>gene</th>\n",
       "      <th>log2fc</th>\n",
       "    </tr>\n",
       "  </thead>\n",
       "  <tbody>\n",
       "    <tr>\n",
       "      <th>0</th>\n",
       "      <td>chr1</td>\n",
       "      <td>3406484</td>\n",
       "      <td>3528059</td>\n",
       "      <td>MEGF6</td>\n",
       "      <td>1.363862</td>\n",
       "    </tr>\n",
       "    <tr>\n",
       "      <th>1</th>\n",
       "      <td>chr1</td>\n",
       "      <td>3541566</td>\n",
       "      <td>3546691</td>\n",
       "      <td>TPRG1L</td>\n",
       "      <td>-0.631326</td>\n",
       "    </tr>\n",
       "    <tr>\n",
       "      <th>2</th>\n",
       "      <td>chr1</td>\n",
       "      <td>3569084</td>\n",
       "      <td>3652765</td>\n",
       "      <td>TP73</td>\n",
       "      <td>2.578334</td>\n",
       "    </tr>\n",
       "    <tr>\n",
       "      <th>3</th>\n",
       "      <td>chr1</td>\n",
       "      <td>5922871</td>\n",
       "      <td>6052533</td>\n",
       "      <td>NPHP4</td>\n",
       "      <td>0.992669</td>\n",
       "    </tr>\n",
       "    <tr>\n",
       "      <th>4</th>\n",
       "      <td>chr1</td>\n",
       "      <td>6051526</td>\n",
       "      <td>6161253</td>\n",
       "      <td>KCNAB2</td>\n",
       "      <td>1.092619</td>\n",
       "    </tr>\n",
       "  </tbody>\n",
       "</table>\n",
       "</div>"
      ],
      "text/plain": [
       "    chr    start      end    gene    log2fc\n",
       "0  chr1  3406484  3528059   MEGF6  1.363862\n",
       "1  chr1  3541566  3546691  TPRG1L -0.631326\n",
       "2  chr1  3569084  3652765    TP73  2.578334\n",
       "3  chr1  5922871  6052533   NPHP4  0.992669\n",
       "4  chr1  6051526  6161253  KCNAB2  1.092619"
      ]
     },
     "execution_count": 5,
     "metadata": {},
     "output_type": "execute_result"
    }
   ],
   "source": [
    "group_c = pd.read_table(f\"{source_dir}/group_C_DEGs.bed\", names=['chr', 'start', 'end', 'gene', 'log2fc'])\n",
    "group_c.head()"
   ]
  },
  {
   "cell_type": "code",
   "execution_count": 6,
   "metadata": {},
   "outputs": [
    {
     "name": "stdout",
     "output_type": "stream",
     "text": [
      "<class 'pandas.core.frame.DataFrame'>\n",
      "RangeIndex: 72 entries, 0 to 71\n",
      "Data columns (total 5 columns):\n",
      "chr       72 non-null object\n",
      "start     72 non-null int64\n",
      "end       72 non-null int64\n",
      "gene      72 non-null object\n",
      "log2fc    72 non-null float64\n",
      "dtypes: float64(1), int64(2), object(2)\n",
      "memory usage: 2.9+ KB\n",
      "None\n",
      "<class 'pandas.core.frame.DataFrame'>\n",
      "RangeIndex: 2971 entries, 0 to 2970\n",
      "Data columns (total 5 columns):\n",
      "chr       2971 non-null object\n",
      "start     2971 non-null int64\n",
      "end       2971 non-null int64\n",
      "gene      2971 non-null object\n",
      "log2fc    2971 non-null float64\n",
      "dtypes: float64(1), int64(2), object(2)\n",
      "memory usage: 116.1+ KB\n",
      "None\n",
      "<class 'pandas.core.frame.DataFrame'>\n",
      "RangeIndex: 464 entries, 0 to 463\n",
      "Data columns (total 5 columns):\n",
      "chr       464 non-null object\n",
      "start     464 non-null int64\n",
      "end       464 non-null int64\n",
      "gene      464 non-null object\n",
      "log2fc    464 non-null float64\n",
      "dtypes: float64(1), int64(2), object(2)\n",
      "memory usage: 18.2+ KB\n",
      "None\n"
     ]
    }
   ],
   "source": [
    "print (group_a.info())\n",
    "print (group_b.info())\n",
    "print (group_c.info())"
   ]
  },
  {
   "cell_type": "code",
   "execution_count": 7,
   "metadata": {},
   "outputs": [
    {
     "data": {
      "text/plain": [
       "<matplotlib.legend.Legend at 0x1a109a5cf8>"
      ]
     },
     "execution_count": 7,
     "metadata": {},
     "output_type": "execute_result"
    },
    {
     "data": {
      "image/png": "[encoded data removed]",
      "text/plain": [
       "<matplotlib.figure.Figure at 0x1a11946710>"
      ]
     },
     "metadata": {},
     "output_type": "display_data"
    }
   ],
   "source": [
    "c_list = list(plt.rcParams['axes.prop_cycle'])\n",
    "c_list[0]['color']\n",
    "x_a, y_a = ecdf.ecdf(group_a['log2fc'].values)\n",
    "x_b, y_b = ecdf.ecdf(group_b['log2fc'].values)\n",
    "x_c, y_c = ecdf.ecdf(group_c['log2fc'].values)\n",
    "\n",
    "plt.plot(x_a, y_a, marker='.', linestyle='none', label=\"Group A DEGs\", color=c_list[0]['color'])\n",
    "plt.plot(x_b, y_b, marker='.', linestyle='none', label=\"Group B DEGs\", color=c_list[1]['color'])\n",
    "plt.plot(x_c, y_c, marker='.', linestyle='none', label=\"Group C DEGs\", color=c_list[2]['color'])\n",
    "plt.xlabel(\"Log fold change\")\n",
    "plt.ylabel(\"Fraction\")\n",
    "plt.legend() #(bbox_to_anchor=(1.04,1), loc=\"upper left\")"
   ]
  },
  {
   "cell_type": "code",
   "execution_count": 8,
   "metadata": {},
   "outputs": [
    {
     "data": {
      "text/plain": [
       "Text(0,0.5,'Density')"
      ]
     },
     "execution_count": 8,
     "metadata": {},
     "output_type": "execute_result"
    },
    {
     "data": {
      "image/png": "[encoded data removed]",
      "text/plain": [
       "<matplotlib.figure.Figure at 0x1a109d87f0>"
      ]
     },
     "metadata": {},
     "output_type": "display_data"
    }
   ],
   "source": [
    "sns.distplot(x_a, rug=False, hist=False, label=\"Group A DEGs\")\n",
    "sns.distplot(x_b, rug=False, hist=False, label=\"Group B DEGs\")\n",
    "sns.distplot(x_c, rug=False, hist=False, label=\"Group C DEGs\")\n",
    "plt.xlabel(\"Log fold change\")\n",
    "plt.ylabel(\"Density\")"
   ]
  },
  {
   "cell_type": "code",
   "execution_count": 9,
   "metadata": {},
   "outputs": [],
   "source": [
    "def permutation_sample(data1, data2):\n",
    "    \"\"\"Generate a permutation sample from two data sets.\"\"\"\n",
    "\n",
    "    # Concatenate the data sets\n",
    "    data = np.concatenate((data1, data2))\n",
    "\n",
    "    # Permute the concatenated array\n",
    "    permuted_data = np.random.permutation(data)\n",
    "\n",
    "    # Split the permuted array into two: perm_sample_1, perm_sample_2    \n",
    "    perm_sample_1 = permuted_data[:len(data1)]\n",
    "    perm_sample_2 = permuted_data[len(data1):]\n",
    "\n",
    "    return perm_sample_1, perm_sample_2\n",
    "\n",
    "def permute_ks_test(data_1, data_2, size=1000):\n",
    "    \"\"\"Generate multiple permutation replicates.\"\"\"\n",
    "\n",
    "    # Initialize array of replicates: perm_replicates\n",
    "    perm_replicates = np.empty(size)\n",
    "\n",
    "    for i in range(size):\n",
    "        # Generate permutation sample\n",
    "        perm_sample_1, perm_sample_2 = permutation_sample(data_1, data_2)\n",
    "        perm_replicates[i] = stats.ks_2samp(perm_sample_1, perm_sample_2)[0]\n",
    "\n",
    "    return perm_replicates"
   ]
  },
  {
   "cell_type": "code",
   "execution_count": 10,
   "metadata": {},
   "outputs": [
    {
     "name": "stdout",
     "output_type": "stream",
     "text": [
      "Observed KS-stat: 0.2649781218444968\n",
      "0.0\n"
     ]
    }
   ],
   "source": [
    "## compare groups A and B\n",
    "N = 10000\n",
    "obs_ksStat = stats.ks_2samp(x_a, x_b)[0]\n",
    "print (f\"Observed KS-stat: {obs_ksStat}\")\n",
    "random_ksStat = permute_ks_test(data_1=x_a, data_2=x_b, size=N)\n",
    "print (np.sum(random_ksStat>=obs_ksStat)/float(N))"
   ]
  },
  {
   "cell_type": "code",
   "execution_count": 11,
   "metadata": {},
   "outputs": [
    {
     "name": "stdout",
     "output_type": "stream",
     "text": [
      "Observed KS-stat: 0.1760057471264368\n",
      "0.0344\n"
     ]
    }
   ],
   "source": [
    "## compare groups A and C\n",
    "N = 10000\n",
    "obs_ksStat = stats.ks_2samp(x_a, x_c)[0]\n",
    "print (f\"Observed KS-stat: {obs_ksStat}\")\n",
    "random_ksStat = permute_ks_test(data_1=x_a, data_2=x_c, size=N)\n",
    "print (np.sum(random_ksStat>=obs_ksStat)/float(N))"
   ]
  }
 ],
 "metadata": {
  "kernelspec": {
   "display_name": "Python (py36)",
   "language": "python",
   "name": "py36"
  },
  "language_info": {
   "codemirror_mode": {
    "name": "ipython",
    "version": 3
   },
   "file_extension": ".py",
   "mimetype": "text/x-python",
   "name": "python",
   "nbconvert_exporter": "python",
   "pygments_lexer": "ipython3",
   "version": "3.6.3"
  }
 },
 "nbformat": 4,
 "nbformat_minor": 2
}
